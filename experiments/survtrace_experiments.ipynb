{
 "cells": [
  {
   "cell_type": "markdown",
   "id": "2b7425c2",
   "metadata": {},
   "source": [
    "# Run SurvTRACE on GBSG, Metabric, Support  datasets"
   ]
  },
  {
   "cell_type": "code",
   "execution_count": 1,
   "id": "b2bbd945",
   "metadata": {},
   "outputs": [
    {
     "data": {
      "text/html": [
       "<style>.container { width:100% !important; }</style>"
      ],
      "text/plain": [
       "<IPython.core.display.HTML object>"
      ]
     },
     "metadata": {},
     "output_type": "display_data"
    }
   ],
   "source": [
    "from IPython.display import display, HTML\n",
    "display(HTML(\"<style>.container { width:100% !important; }</style>\"))"
   ]
  },
  {
   "cell_type": "code",
   "execution_count": 2,
   "id": "01e4e771",
   "metadata": {},
   "outputs": [],
   "source": [
    "import warnings\n",
    "warnings.filterwarnings('ignore')"
   ]
  },
  {
   "cell_type": "code",
   "execution_count": 3,
   "id": "ed36f5b2",
   "metadata": {},
   "outputs": [],
   "source": [
    "import os, sys\n",
    "sys.path.append(os.path.abspath('../SurvTRACE'))\n",
    "sys.path.append(os.path.abspath(\"..\"))"
   ]
  },
  {
   "cell_type": "code",
   "execution_count": 4,
   "id": "a01b8134",
   "metadata": {},
   "outputs": [],
   "source": [
    "import pdb\n",
    "from collections import defaultdict\n",
    "import matplotlib.pyplot as plt\n",
    "\n",
    "from survtrace.dataset import load_data\n",
    "from survtrace.evaluate_utils import Evaluator\n",
    "from survtrace.utils import set_random_seed\n",
    "from survtrace.model import SurvTraceSingle\n",
    "from survtrace.train_utils import Trainer\n",
    "from survtrace.config import STConfig\n",
    "import prettytable as pt"
   ]
  },
  {
   "cell_type": "code",
   "execution_count": 5,
   "id": "6b08a44b",
   "metadata": {},
   "outputs": [],
   "source": [
    "# Hyper params for transformer training\n",
    "hparams = {\n",
    "    'batch_size': 64,\n",
    "    'weight_decay': 0.0,\n",
    "    'learning_rate': 1e-3,\n",
    "    'epochs': 20,\n",
    "}"
   ]
  },
  {
   "cell_type": "code",
   "execution_count": 6,
   "id": "4e884426",
   "metadata": {},
   "outputs": [],
   "source": [
    "DATASETS = ['gbsg', 'metabric', 'support']"
   ]
  },
  {
   "cell_type": "code",
   "execution_count": 7,
   "id": "efb0d5c9",
   "metadata": {},
   "outputs": [],
   "source": [
    "from btdsa.utils import create_logger\n",
    "logger = create_logger('./logs_survtrace')"
   ]
  },
  {
   "cell_type": "code",
   "execution_count": 8,
   "id": "de6a1245",
   "metadata": {},
   "outputs": [],
   "source": [
    "horizons = STConfig.horizons\n",
    "headers = []\n",
    "results = []"
   ]
  },
  {
   "cell_type": "code",
   "execution_count": 9,
   "id": "7920014d",
   "metadata": {},
   "outputs": [],
   "source": [
    "def run_experiment(dataset, hparams, show_plot=False):\n",
    "    \n",
    "    assert dataset in DATASETS\n",
    "    logger.info(f\"Running {dataset}...\")\n",
    "    headers.append(dataset)\n",
    "\n",
    "    # define the setup parameters\n",
    "    STConfig.data = dataset\n",
    "    STConfig.early_stop_patience = 10\n",
    "\n",
    "    #seed = STConfig.seed # 1234\n",
    "    seed = 42\n",
    "    set_random_seed(seed)\n",
    "    \n",
    "    # load data\n",
    "    df, df_train, df_y_train, df_test, df_y_test, df_val, df_y_val = load_data(STConfig)\n",
    "\n",
    "    # get model\n",
    "    model = SurvTraceSingle(STConfig)\n",
    "\n",
    "    # initialize a trainer\n",
    "    trainer = Trainer(model)\n",
    "    train_loss, val_loss = trainer.fit((df_train, df_y_train), (df_val, df_y_val),\n",
    "            batch_size=hparams['batch_size'],\n",
    "            epochs=hparams['epochs'],\n",
    "            learning_rate=hparams['learning_rate'],\n",
    "            weight_decay=hparams['weight_decay'],)\n",
    "    \n",
    "    # evaluate model\n",
    "    evaluator = Evaluator(df, df_train.index)\n",
    "    result_dict = evaluator.eval(model, (df_test, df_y_test), confidence=.95, nb_bootstrap=100)\n",
    "    \n",
    "    # Messages for pretty table summary\n",
    "    cindex_mean, (cindex_lower, cindex_upper) = result_dict.pop('C-td-full')\n",
    "    row_str = f\"C-td (full): {cindex_mean:.6f} ({cindex_lower:.6f},{cindex_upper:.6f})\\n\"\n",
    "    \n",
    "    for horizon in horizons:\n",
    "        keys = [ k for k in result_dict.keys() if k.startswith(str(horizon)) ]\n",
    "        results_at_horizon = [result_dict[k] for k in keys]\n",
    "        msg = [f\"[{horizon*100}%]\"]\n",
    "        for k,res in zip(keys,results_at_horizon):\n",
    "            metric = k.split('_')[1]\n",
    "            mean, (lower, upper) = res\n",
    "            msg.append(f\"{metric}: {mean:.6f} ({lower:.6f},{upper:.6f})\")\n",
    "        row_str += (\" \".join(msg) + \"\\n\")\n",
    "    results.append(row_str)\n",
    "        \n",
    "    if show_plot:\n",
    "        # show training curves\n",
    "        plt.plot(train_loss, label='train')\n",
    "        plt.plot(val_loss, label='val')\n",
    "        plt.legend(fontsize=20)\n",
    "        plt.xlabel('epoch',fontsize=20)\n",
    "        plt.ylabel('loss', fontsize=20)\n",
    "        plt.show()\n",
    "    print(\"done\")"
   ]
  },
  {
   "cell_type": "code",
   "execution_count": 10,
   "id": "300d34dd",
   "metadata": {
    "scrolled": false
   },
   "outputs": [
    {
     "name": "stderr",
     "output_type": "stream",
     "text": [
      "Running gbsg...\n"
     ]
    },
    {
     "name": "stdout",
     "output_type": "stream",
     "text": [
      "use pytorch-cuda for training.\n",
      "[Train-0]: 40.09908926486969\n",
      "[Val-0]: 1.795464038848877\n",
      "[Train-1]: 31.27235436439514\n",
      "[Val-1]: 1.2902237176895142\n",
      "[Train-2]: 28.2702054977417\n",
      "[Val-2]: 1.2813656330108643\n",
      "[Train-3]: 28.171855568885803\n",
      "[Val-3]: 1.2697116136550903\n",
      "[Train-4]: 27.965640783309937\n",
      "[Val-4]: 1.2740832567214966\n",
      "EarlyStopping counter: 1 out of 10\n",
      "[Train-5]: 28.073654651641846\n",
      "[Val-5]: 1.2769994735717773\n",
      "EarlyStopping counter: 2 out of 10\n",
      "[Train-6]: 27.909841179847717\n",
      "[Val-6]: 1.2700824737548828\n",
      "EarlyStopping counter: 3 out of 10\n",
      "[Train-7]: 27.763140320777893\n",
      "[Val-7]: 1.2607190608978271\n",
      "[Train-8]: 27.696669101715088\n",
      "[Val-8]: 1.2683457136154175\n",
      "EarlyStopping counter: 1 out of 10\n",
      "[Train-9]: 27.704071044921875\n",
      "[Val-9]: 1.2833281755447388\n",
      "EarlyStopping counter: 2 out of 10\n",
      "[Train-10]: 27.737603306770325\n",
      "[Val-10]: 1.272808313369751\n",
      "EarlyStopping counter: 3 out of 10\n",
      "[Train-11]: 27.539986491203308\n",
      "[Val-11]: 1.274746060371399\n",
      "EarlyStopping counter: 4 out of 10\n",
      "[Train-12]: 27.584269404411316\n",
      "[Val-12]: 1.2852287292480469\n",
      "EarlyStopping counter: 5 out of 10\n",
      "[Train-13]: 27.462607741355896\n",
      "[Val-13]: 1.2797117233276367\n",
      "EarlyStopping counter: 6 out of 10\n",
      "[Train-14]: 27.453724265098572\n",
      "[Val-14]: 1.2813564538955688\n",
      "EarlyStopping counter: 7 out of 10\n",
      "[Train-15]: 27.613584637641907\n",
      "[Val-15]: 1.268526554107666\n",
      "EarlyStopping counter: 8 out of 10\n",
      "[Train-16]: 27.7058048248291\n",
      "[Val-16]: 1.2715784311294556\n",
      "EarlyStopping counter: 9 out of 10\n",
      "[Train-17]: 27.451326608657837\n",
      "[Val-17]: 1.2951064109802246\n",
      "EarlyStopping counter: 10 out of 10\n",
      "early stops at epoch 18\n",
      "******************************\n",
      "start evaluation\n",
      "******************************\n"
     ]
    },
    {
     "name": "stderr",
     "output_type": "stream",
     "text": [
      "Running metabric...\n"
     ]
    },
    {
     "name": "stdout",
     "output_type": "stream",
     "text": [
      "0.95 confidence C-td-full average: 0.42508174219033257\n",
      "0.95 confidence C-td-full interval: (0.42104030318236785,0.4291231811982973)\n",
      "0.95 confidence 0.25_Ctd_ipcw average: 0.7494041244315938\n",
      "0.95 confidence 0.25_Ctd_ipcw interval: (0.7441975439217982,0.7546107049413894)\n",
      "0.95 confidence 0.25_brier average: 0.10272065034826204\n",
      "0.95 confidence 0.25_brier interval: (0.10110377714154777,0.10433752355497632)\n",
      "0.95 confidence 0.25_auroc average: 0.7678122158234711\n",
      "0.95 confidence 0.25_auroc interval: (0.7622857479877281,0.7733386836592142)\n",
      "0.95 confidence 0.5_Ctd_ipcw average: 0.7062904882979819\n",
      "0.95 confidence 0.5_Ctd_ipcw interval: (0.7025818905452635,0.7099990860507003)\n",
      "0.95 confidence 0.5_brier average: 0.1754065201097754\n",
      "0.95 confidence 0.5_brier interval: (0.17376565736824645,0.17704738285130434)\n",
      "0.95 confidence 0.5_auroc average: 0.7341379918066419\n",
      "0.95 confidence 0.5_auroc interval: (0.7300240929509765,0.7382518906623072)\n",
      "0.95 confidence 0.75_Ctd_ipcw average: 0.688692242227709\n",
      "0.95 confidence 0.75_Ctd_ipcw interval: (0.6857149870680129,0.691669497387405)\n",
      "0.95 confidence 0.75_brier average: 0.2070359646433403\n",
      "0.95 confidence 0.75_brier interval: (0.20574291319564855,0.20832901609103202)\n",
      "0.95 confidence 0.75_auroc average: 0.7212746227182272\n",
      "0.95 confidence 0.75_auroc interval: (0.7175084857009792,0.7250407597354751)\n",
      "done\n",
      "use pytorch-cuda for training.\n",
      "[Train-0]: 31.440512657165527\n",
      "[Val-0]: 1.4520288705825806\n",
      "[Train-1]: 25.710711359977722\n",
      "[Val-1]: 1.4801043272018433\n",
      "EarlyStopping counter: 1 out of 10\n",
      "[Train-2]: 21.69777536392212\n",
      "[Val-2]: 1.2060928344726562\n",
      "[Train-3]: 20.87489140033722\n",
      "[Val-3]: 1.2308647632598877\n",
      "EarlyStopping counter: 1 out of 10\n",
      "[Train-4]: 20.67634826898575\n",
      "[Val-4]: 1.281868577003479\n",
      "EarlyStopping counter: 2 out of 10\n",
      "[Train-5]: 20.74354648590088\n",
      "[Val-5]: 1.1622133255004883\n",
      "[Train-6]: 20.474596321582794\n",
      "[Val-6]: 1.3743698596954346\n",
      "EarlyStopping counter: 1 out of 10\n",
      "[Train-7]: 20.422979176044464\n",
      "[Val-7]: 1.2327358722686768\n",
      "EarlyStopping counter: 2 out of 10\n",
      "[Train-8]: 20.142259776592255\n",
      "[Val-8]: 1.1753182411193848\n",
      "EarlyStopping counter: 3 out of 10\n",
      "[Train-9]: 19.979308545589447\n",
      "[Val-9]: 1.1708489656448364\n",
      "EarlyStopping counter: 4 out of 10\n",
      "[Train-10]: 19.923188626766205\n",
      "[Val-10]: 1.206488013267517\n",
      "EarlyStopping counter: 5 out of 10\n",
      "[Train-11]: 19.86005210876465\n",
      "[Val-11]: 1.156434416770935\n",
      "[Train-12]: 19.586700081825256\n",
      "[Val-12]: 1.2143752574920654\n",
      "EarlyStopping counter: 1 out of 10\n",
      "[Train-13]: 19.536754727363586\n",
      "[Val-13]: 1.235564112663269\n",
      "EarlyStopping counter: 2 out of 10\n",
      "[Train-14]: 19.39492404460907\n",
      "[Val-14]: 1.1883790493011475\n",
      "EarlyStopping counter: 3 out of 10\n",
      "[Train-15]: 19.53837686777115\n",
      "[Val-15]: 1.2112221717834473\n",
      "EarlyStopping counter: 4 out of 10\n",
      "[Train-16]: 19.224917829036713\n",
      "[Val-16]: 1.1720918416976929\n",
      "EarlyStopping counter: 5 out of 10\n",
      "[Train-17]: 19.12862765789032\n",
      "[Val-17]: 1.1898624897003174\n",
      "EarlyStopping counter: 6 out of 10\n",
      "[Train-18]: 19.066946625709534\n",
      "[Val-18]: 1.2437431812286377\n",
      "EarlyStopping counter: 7 out of 10\n",
      "[Train-19]: 18.94104093313217\n",
      "[Val-19]: 1.2044347524642944\n",
      "EarlyStopping counter: 8 out of 10\n",
      "******************************\n",
      "start evaluation\n",
      "******************************\n"
     ]
    },
    {
     "name": "stderr",
     "output_type": "stream",
     "text": [
      "Running support...\n"
     ]
    },
    {
     "name": "stdout",
     "output_type": "stream",
     "text": [
      "0.95 confidence C-td-full average: 0.38036345160192025\n",
      "0.95 confidence C-td-full interval: (0.376149008237893,0.3845778949659475)\n",
      "0.95 confidence 0.25_Ctd_ipcw average: 0.6990424512809237\n",
      "0.95 confidence 0.25_Ctd_ipcw interval: (0.6930633038382236,0.7050215987236238)\n",
      "0.95 confidence 0.25_brier average: 0.11852989934595909\n",
      "0.95 confidence 0.25_brier interval: (0.1167646283444605,0.12029517034745768)\n",
      "0.95 confidence 0.25_auroc average: 0.7088139306559873\n",
      "0.95 confidence 0.25_auroc interval: (0.7023951137092376,0.715232747602737)\n",
      "0.95 confidence 0.5_Ctd_ipcw average: 0.6661444893643379\n",
      "0.95 confidence 0.5_Ctd_ipcw interval: (0.6619358884004575,0.6703530903282183)\n",
      "0.95 confidence 0.5_brier average: 0.19430366617534087\n",
      "0.95 confidence 0.5_brier interval: (0.1926093027675533,0.19599802958312842)\n",
      "0.95 confidence 0.5_auroc average: 0.6871639711889259\n",
      "0.95 confidence 0.5_auroc interval: (0.6820669083477489,0.692261034030103)\n",
      "0.95 confidence 0.75_Ctd_ipcw average: 0.645810008736889\n",
      "0.95 confidence 0.75_Ctd_ipcw interval: (0.642351322365837,0.6492686951079409)\n",
      "0.95 confidence 0.75_brier average: 0.2228468695668768\n",
      "0.95 confidence 0.75_brier interval: (0.22111585612621612,0.22457788300753748)\n",
      "0.95 confidence 0.75_auroc average: 0.6926616098193392\n",
      "0.95 confidence 0.75_auroc interval: (0.6882155403660327,0.6971076792726457)\n",
      "done\n",
      "use pytorch-cuda for training.\n",
      "[Train-0]: 130.07544207572937\n",
      "[Val-0]: 1.3430756330490112\n",
      "[Train-1]: 116.79235231876373\n",
      "[Val-1]: 1.3287855386734009\n",
      "[Train-2]: 116.15792036056519\n",
      "[Val-2]: 1.344612717628479\n",
      "EarlyStopping counter: 1 out of 10\n",
      "[Train-3]: 116.11310982704163\n",
      "[Val-3]: 1.3302643299102783\n",
      "EarlyStopping counter: 2 out of 10\n",
      "[Train-4]: 115.65784060955048\n",
      "[Val-4]: 1.3311563730239868\n",
      "EarlyStopping counter: 3 out of 10\n",
      "[Train-5]: 115.06546747684479\n",
      "[Val-5]: 1.329535722732544\n",
      "EarlyStopping counter: 4 out of 10\n",
      "[Train-6]: 114.99985361099243\n",
      "[Val-6]: 1.3231106996536255\n",
      "[Train-7]: 114.91960549354553\n",
      "[Val-7]: 1.3301572799682617\n",
      "EarlyStopping counter: 1 out of 10\n",
      "[Train-8]: 114.3850771188736\n",
      "[Val-8]: 1.3276716470718384\n",
      "EarlyStopping counter: 2 out of 10\n",
      "[Train-9]: 114.513543009758\n",
      "[Val-9]: 1.3324531316757202\n",
      "EarlyStopping counter: 3 out of 10\n",
      "[Train-10]: 113.92359983921051\n",
      "[Val-10]: 1.3316364288330078\n",
      "EarlyStopping counter: 4 out of 10\n",
      "[Train-11]: 113.70255708694458\n",
      "[Val-11]: 1.3374006748199463\n",
      "EarlyStopping counter: 5 out of 10\n",
      "[Train-12]: 113.53739213943481\n",
      "[Val-12]: 1.3367481231689453\n",
      "EarlyStopping counter: 6 out of 10\n",
      "[Train-13]: 113.26565968990326\n",
      "[Val-13]: 1.3365122079849243\n",
      "EarlyStopping counter: 7 out of 10\n",
      "[Train-14]: 113.37791550159454\n",
      "[Val-14]: 1.3317922353744507\n",
      "EarlyStopping counter: 8 out of 10\n",
      "[Train-15]: 113.22831308841705\n",
      "[Val-15]: 1.334760308265686\n",
      "EarlyStopping counter: 9 out of 10\n",
      "[Train-16]: 113.07255172729492\n",
      "[Val-16]: 1.3337595462799072\n",
      "EarlyStopping counter: 10 out of 10\n",
      "early stops at epoch 17\n",
      "******************************\n",
      "start evaluation\n",
      "******************************\n",
      "0.95 confidence C-td-full average: 0.38440438107312586\n",
      "0.95 confidence C-td-full interval: (0.38263841554469363,0.3861703466015581)\n",
      "0.95 confidence 0.25_Ctd_ipcw average: 0.650277064244417\n",
      "0.95 confidence 0.25_Ctd_ipcw interval: (0.6473262787916161,0.6532278496972179)\n",
      "0.95 confidence 0.25_brier average: 0.1400512715969203\n",
      "0.95 confidence 0.25_brier interval: (0.13918079508126371,0.14092174811257688)\n",
      "0.95 confidence 0.25_auroc average: 0.6560883159768325\n",
      "0.95 confidence 0.25_auroc interval: (0.652939017605309,0.6592376143483559)\n",
      "0.95 confidence 0.5_Ctd_ipcw average: 0.6157955485576191\n",
      "0.95 confidence 0.5_Ctd_ipcw interval: (0.6136714552477945,0.6179196418674436)\n",
      "0.95 confidence 0.5_brier average: 0.21641493090983985\n",
      "0.95 confidence 0.5_brier interval: (0.21565561904754688,0.21717424277213282)\n",
      "0.95 confidence 0.5_auroc average: 0.631302930830086\n",
      "0.95 confidence 0.5_auroc interval: (0.6289190110987228,0.6336868505614492)\n",
      "0.95 confidence 0.75_Ctd_ipcw average: 0.604302567655643\n",
      "0.95 confidence 0.75_Ctd_ipcw interval: (0.602667148144134,0.6059379871671521)\n",
      "0.95 confidence 0.75_brier average: 0.2330678071978587\n",
      "0.95 confidence 0.75_brier interval: (0.23245758662852317,0.2336780277671942)\n",
      "0.95 confidence 0.75_auroc average: 0.6589854654683311\n",
      "0.95 confidence 0.75_auroc interval: (0.6568987255923168,0.6610722053443455)\n",
      "done\n"
     ]
    }
   ],
   "source": [
    "for dataset in DATASETS:\n",
    "    run_experiment(dataset, hparams, show_plot=False)"
   ]
  },
  {
   "cell_type": "code",
   "execution_count": 11,
   "id": "1437c760",
   "metadata": {},
   "outputs": [
    {
     "name": "stderr",
     "output_type": "stream",
     "text": [
      "+-----------------------------------------------------------------------------------------------------------------------------------------------------------------------------------------------------------------------------------------------------------------------------------------------------------------------------------------------------------+\n",
      "|                                                                                                                                                                         SurvTrace                                                                                                                                                                         |\n",
      "+-------------------------------------------------------------------------------------------------------------------+-------------------------------------------------------------------------------------------------------------------+-------------------------------------------------------------------------------------------------------------------+\n",
      "|                                                        gbsg                                                       |                                                      metabric                                                     |                                                      support                                                      |\n",
      "+-------------------------------------------------------------------------------------------------------------------+-------------------------------------------------------------------------------------------------------------------+-------------------------------------------------------------------------------------------------------------------+\n",
      "|                                     C-td (full): 0.425082 (0.421040,0.429123)                                     |                                     C-td (full): 0.380363 (0.376149,0.384578)                                     |                                     C-td (full): 0.384404 (0.382638,0.386170)                                     |\n",
      "| [25.0%] Ctd: 0.749404 (0.744198,0.754611) brier: 0.102721 (0.101104,0.104338) auroc: 0.767812 (0.762286,0.773339) | [25.0%] Ctd: 0.699042 (0.693063,0.705022) brier: 0.118530 (0.116765,0.120295) auroc: 0.708814 (0.702395,0.715233) | [25.0%] Ctd: 0.650277 (0.647326,0.653228) brier: 0.140051 (0.139181,0.140922) auroc: 0.656088 (0.652939,0.659238) |\n",
      "| [50.0%] Ctd: 0.706290 (0.702582,0.709999) brier: 0.175407 (0.173766,0.177047) auroc: 0.734138 (0.730024,0.738252) | [50.0%] Ctd: 0.666144 (0.661936,0.670353) brier: 0.194304 (0.192609,0.195998) auroc: 0.687164 (0.682067,0.692261) | [50.0%] Ctd: 0.615796 (0.613671,0.617920) brier: 0.216415 (0.215656,0.217174) auroc: 0.631303 (0.628919,0.633687) |\n",
      "| [75.0%] Ctd: 0.688692 (0.685715,0.691669) brier: 0.207036 (0.205743,0.208329) auroc: 0.721275 (0.717508,0.725041) | [75.0%] Ctd: 0.645810 (0.642351,0.649269) brier: 0.222847 (0.221116,0.224578) auroc: 0.692662 (0.688216,0.697108) | [75.0%] Ctd: 0.604303 (0.602667,0.605938) brier: 0.233068 (0.232458,0.233678) auroc: 0.658985 (0.656899,0.661072) |\n",
      "|                                                                                                                   |                                                                                                                   |                                                                                                                   |\n",
      "+-------------------------------------------------------------------------------------------------------------------+-------------------------------------------------------------------------------------------------------------------+-------------------------------------------------------------------------------------------------------------------+\n"
     ]
    }
   ],
   "source": [
    "tb = pt.PrettyTable(title=\"SurvTrace\")\n",
    "tb.field_names = headers\n",
    "tb.add_row(results)\n",
    "logger.info(tb)\n"
   ]
  },
  {
   "cell_type": "code",
   "execution_count": 12,
   "id": "bb79b1ab",
   "metadata": {},
   "outputs": [
    {
     "name": "stdout",
     "output_type": "stream",
     "text": [
      "use pytorch-cuda for training.\n",
      "[Train-0]: 31.0242121219635\n",
      "[Val-0]: 1.946359634399414\n",
      "[Train-1]: 24.4786297082901\n",
      "[Val-1]: 1.215131402015686\n",
      "[Train-2]: 21.12000012397766\n",
      "[Val-2]: 1.2243167161941528\n",
      "EarlyStopping counter: 1 out of 10\n",
      "[Train-3]: 20.812350511550903\n",
      "[Val-3]: 1.1802282333374023\n",
      "[Train-4]: 20.800874769687653\n",
      "[Val-4]: 1.1885045766830444\n",
      "EarlyStopping counter: 1 out of 10\n",
      "[Train-5]: 20.488836705684662\n",
      "[Val-5]: 1.1801613569259644\n",
      "[Train-6]: 20.678073704242706\n",
      "[Val-6]: 1.239781379699707\n",
      "EarlyStopping counter: 1 out of 10\n",
      "[Train-7]: 20.75031614303589\n",
      "[Val-7]: 1.1556055545806885\n",
      "[Train-8]: 20.55314439535141\n",
      "[Val-8]: 1.2109662294387817\n",
      "EarlyStopping counter: 1 out of 10\n",
      "[Train-9]: 20.38636153936386\n",
      "[Val-9]: 1.1675972938537598\n",
      "EarlyStopping counter: 2 out of 10\n",
      "[Train-10]: 20.402149200439453\n",
      "[Val-10]: 1.1800442934036255\n",
      "EarlyStopping counter: 3 out of 10\n",
      "[Train-11]: 20.34602952003479\n",
      "[Val-11]: 1.196302056312561\n",
      "EarlyStopping counter: 4 out of 10\n",
      "[Train-12]: 20.336333751678467\n",
      "[Val-12]: 1.1658891439437866\n",
      "EarlyStopping counter: 5 out of 10\n",
      "[Train-13]: 20.195137441158295\n",
      "[Val-13]: 1.237678050994873\n",
      "EarlyStopping counter: 6 out of 10\n",
      "[Train-14]: 20.638758182525635\n",
      "[Val-14]: 1.3646258115768433\n",
      "EarlyStopping counter: 7 out of 10\n",
      "[Train-15]: 20.3052836060524\n",
      "[Val-15]: 1.1510112285614014\n",
      "[Train-16]: 20.50069409608841\n",
      "[Val-16]: 1.2502979040145874\n",
      "EarlyStopping counter: 1 out of 10\n",
      "[Train-17]: 20.258842527866364\n",
      "[Val-17]: 1.1992710828781128\n",
      "EarlyStopping counter: 2 out of 10\n",
      "[Train-18]: 20.2508704662323\n",
      "[Val-18]: 1.182073950767517\n",
      "EarlyStopping counter: 3 out of 10\n",
      "[Train-19]: 20.061376333236694\n",
      "[Val-19]: 1.189091682434082\n",
      "EarlyStopping counter: 4 out of 10\n"
     ]
    }
   ],
   "source": [
    "STConfig.data = 'metabric'\n",
    "\n",
    "# load data\n",
    "df, df_train, df_y_train, df_test, df_y_test, df_val, df_y_val = load_data(STConfig)\n",
    "\n",
    "# get model\n",
    "model = SurvTraceSingle(STConfig)\n",
    "\n",
    "# initialize a trainer\n",
    "trainer = Trainer(model)\n",
    "train_loss, val_loss = trainer.fit((df_train, df_y_train), (df_val, df_y_val),\n",
    "        batch_size=hparams['batch_size'],\n",
    "        epochs=hparams['epochs'],\n",
    "        learning_rate=hparams['learning_rate'],\n",
    "        weight_decay=hparams['weight_decay'],)"
   ]
  },
  {
   "cell_type": "code",
   "execution_count": 13,
   "id": "f229b1d2",
   "metadata": {},
   "outputs": [],
   "source": [
    "surv = model.predict_surv_df(df_test)"
   ]
  },
  {
   "cell_type": "code",
   "execution_count": 14,
   "id": "bc123a86",
   "metadata": {},
   "outputs": [
    {
     "data": {
      "text/plain": [
       "<Axes: >"
      ]
     },
     "execution_count": 14,
     "metadata": {},
     "output_type": "execute_result"
    },
    {
     "data": {
      "image/png": "[encoded data removed]",
      "text/plain": [
       "<Figure size 640x480 with 1 Axes>"
      ]
     },
     "metadata": {},
     "output_type": "display_data"
    }
   ],
   "source": [
    "surv.iloc[:, :5].plot()"
   ]
  },
  {
   "cell_type": "code",
   "execution_count": 15,
   "id": "5e37acf9",
   "metadata": {},
   "outputs": [
    {
     "data": {
      "text/html": [
       "<div>\n",
       "<style scoped>\n",
       "    .dataframe tbody tr th:only-of-type {\n",
       "        vertical-align: middle;\n",
       "    }\n",
       "\n",
       "    .dataframe tbody tr th {\n",
       "        vertical-align: top;\n",
       "    }\n",
       "\n",
       "    .dataframe thead th {\n",
       "        text-align: right;\n",
       "    }\n",
       "</style>\n",
       "<table border=\"1\" class=\"dataframe\">\n",
       "  <thead>\n",
       "    <tr style=\"text-align: right;\">\n",
       "      <th></th>\n",
       "      <th>duration</th>\n",
       "      <th>event</th>\n",
       "    </tr>\n",
       "  </thead>\n",
       "  <tbody>\n",
       "    <tr>\n",
       "      <th>1529</th>\n",
       "      <td>128.366669</td>\n",
       "      <td>1</td>\n",
       "    </tr>\n",
       "    <tr>\n",
       "      <th>911</th>\n",
       "      <td>13.800000</td>\n",
       "      <td>1</td>\n",
       "    </tr>\n",
       "    <tr>\n",
       "      <th>1735</th>\n",
       "      <td>274.033325</td>\n",
       "      <td>0</td>\n",
       "    </tr>\n",
       "    <tr>\n",
       "      <th>1669</th>\n",
       "      <td>295.333344</td>\n",
       "      <td>1</td>\n",
       "    </tr>\n",
       "    <tr>\n",
       "      <th>111</th>\n",
       "      <td>119.466667</td>\n",
       "      <td>1</td>\n",
       "    </tr>\n",
       "  </tbody>\n",
       "</table>\n",
       "</div>"
      ],
      "text/plain": [
       "        duration  event\n",
       "1529  128.366669      1\n",
       "911    13.800000      1\n",
       "1735  274.033325      0\n",
       "1669  295.333344      1\n",
       "111   119.466667      1"
      ]
     },
     "execution_count": 15,
     "metadata": {},
     "output_type": "execute_result"
    }
   ],
   "source": [
    "df_y_test.head(5)"
   ]
  },
  {
   "cell_type": "code",
   "execution_count": null,
   "id": "965d1bec",
   "metadata": {},
   "outputs": [],
   "source": []
  },
  {
   "cell_type": "code",
   "execution_count": null,
   "id": "a04a252e",
   "metadata": {},
   "outputs": [],
   "source": []
  }
 ],
 "metadata": {
  "kernelspec": {
   "display_name": "Python 3 (ipykernel)",
   "language": "python",
   "name": "python3"
  },
  "language_info": {
   "codemirror_mode": {
    "name": "ipython",
    "version": 3
   },
   "file_extension": ".py",
   "mimetype": "text/x-python",
   "name": "python",
   "nbconvert_exporter": "python",
   "pygments_lexer": "ipython3",
   "version": "3.9.16"
  }
 },
 "nbformat": 4,
 "nbformat_minor": 5
}
