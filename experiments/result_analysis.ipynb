{
 "cells": [
  {
   "cell_type": "code",
   "execution_count": 1,
   "id": "7255c61b",
   "metadata": {},
   "outputs": [
    {
     "data": {
      "text/html": [
       "<style>.container { width:100% !important; }</style>"
      ],
      "text/plain": [
       "<IPython.core.display.HTML object>"
      ]
     },
     "metadata": {},
     "output_type": "display_data"
    }
   ],
   "source": [
    "from IPython.display import display, HTML\n",
    "display(HTML(\"<style>.container { width:100% !important; }</style>\"))"
   ]
  },
  {
   "cell_type": "code",
   "execution_count": 2,
   "id": "2d0c29f2",
   "metadata": {},
   "outputs": [],
   "source": [
    "import warnings\n",
    "warnings.filterwarnings('ignore')"
   ]
  },
  {
   "cell_type": "code",
   "execution_count": 3,
   "id": "81af1ecb",
   "metadata": {},
   "outputs": [],
   "source": [
    "import random\n",
    "from pathlib import Path\n",
    "import numpy as np\n",
    "import torch\n",
    "import matplotlib.pyplot as plt\n",
    "plt.style.use('ggplot')\n",
    "from sklearn.metrics import roc_curve, auc\n",
    "from pycox.models import utils\n",
    "from pycox.utils import idx_at_times, kaplan_meier\n",
    "import pandas as pd\n",
    "import copy\n",
    "import pickle\n",
    "from sksurv.ensemble import RandomSurvivalForest\n",
    "from sksurv.linear_model import CoxPHSurvivalAnalysis\n",
    "from sksurv.metrics import concordance_index_ipcw, brier_score, cumulative_dynamic_auc\n",
    "from sksurv.nonparametric import kaplan_meier_estimator\n",
    "from collections import defaultdict"
   ]
  },
  {
   "cell_type": "code",
   "execution_count": 4,
   "id": "a562b9a0",
   "metadata": {},
   "outputs": [],
   "source": [
    "import os, sys\n",
    "sys.path.append(os.path.abspath('..')) \n",
    "\n",
    "from baselines.config import Config, BASELINE_MODEL_FAMILY, TIME_INJECTION_MODEL_FAMILY\n",
    "from baselines.train_utils import init_trainer, get_target\n",
    "from baselines.utils import seed_everything\n",
    "from baselines.datasets import load_data as load_data_base\n",
    "from SurvTRACE.survtrace.config import STConfig\n",
    "from SurvTRACE.survtrace.utils import set_random_seed\n",
    "from SurvTRACE.survtrace.dataset import load_data as load_data_trs\n",
    "from SurvTRACE.survtrace.model import SurvTraceSingle\n",
    "from SurvTRACE.survtrace.train_utils import Trainer"
   ]
  },
  {
   "cell_type": "markdown",
   "id": "08ac23fa",
   "metadata": {},
   "source": [
    "## Configurations for models:\n",
    "- baselines    : `Config` need to be setup\n",
    "- transformers : `STConfig` need to be setup\n",
    "- classical Cox-spirit models (CPH, RSF) : not required"
   ]
  },
  {
   "cell_type": "code",
   "execution_count": 5,
   "id": "c1e33d71",
   "metadata": {},
   "outputs": [],
   "source": [
    "def setup_config_for_baselines(model_name, time_range='full'):\n",
    "    cfg = Config\n",
    "    cfg.model_name = model_name\n",
    "    cfg.time_range = time_range\n",
    "    cfg.setup()\n",
    "    return cfg\n",
    "\n",
    "def setup_config_for_transformers(model_name, dataset):\n",
    "    # define the setup parameters\n",
    "    STConfig.data = dataset\n",
    "    if model_name == 'SurvTrace':\n",
    "        STConfig.custom_training = False\n",
    "    if model_name == \"TRANS-TFI\":\n",
    "        STConfig.custom_training = True\n",
    "        \n",
    "    seed = STConfig.seed # 1234 \n",
    "    set_random_seed(seed)"
   ]
  },
  {
   "cell_type": "markdown",
   "id": "e8066ba9",
   "metadata": {},
   "source": [
    "## Survival Functions"
   ]
  },
  {
   "cell_type": "markdown",
   "id": "3f27b90e",
   "metadata": {},
   "source": [
    "### 1. Baseline models\n",
    "- `DeepHitSingle` : DeepHit (https://ojs.aaai.org/index.php/AAAI/article/view/11842)\n",
    "- `CoxPH` : a.k.a DeepSurv (https://bmcmedresmethodol.biomedcentral.com/articles/10.1186/s12874-018-0482-1)\n",
    "<!-- - `DRSA` : Deep Recurrent Survival Analysis (https://ojs.aaai.org/index.php/AAAI/article/view/4407) -->"
   ]
  },
  {
   "cell_type": "code",
   "execution_count": 6,
   "id": "15b023a0",
   "metadata": {},
   "outputs": [],
   "source": [
    "def infer_surv_of_baselines(model_name, dataset, time_range, group='uncensored', experiment_root='../scripts'):\n",
    "    cfg = setup_config_for_baselines(model_name, time_range)\n",
    "    model_save_dir = Path(experiment_root, cfg.model_save_dir)\n",
    "    weight_file = model_save_dir / f\"{cfg.model_name}_{cfg.time_range}_L{cfg.seq_len}_{dataset}.pth\"\n",
    "    trainer = init_trainer(cfg)\n",
    "    trainer.preprocess(dataset)\n",
    "    \n",
    "    model = trainer.load_model_weights(weight_file)\n",
    "    x_test, y_test = trainer.test\n",
    "    \n",
    "    if hasattr(model, 'compute_baseline_hazards'):\n",
    "        model.training_data = trainer.train\n",
    "        \n",
    "    if group == 'uncensored':\n",
    "        v = 1\n",
    "    elif group == 'censored':\n",
    "        v = 0\n",
    "\n",
    "    durations_test, events_test = y_test.T\n",
    "\n",
    "    t_train, e_train = get_target(trainer.df_train_raw)\n",
    "    et_train = np.array([(e_train[i], t_train[i]) for i in range(len(e_train))],\n",
    "                        dtype=[('e', bool), ('t', float)])\n",
    "    et_test = np.array([(events_test[i], durations_test[i]) for i in range(len(events_test))],\n",
    "                           dtype=[('e', bool), ('t', float)])\n",
    "\n",
    "    if trainer.interpolate_discrete_times:\n",
    "        surv_full = model.interpolate(100).predict_surv_df(x_test)\n",
    "    else:\n",
    "        if hasattr(model, 'compute_baseline_hazards'):\n",
    "            _ = model.compute_baseline_hazards()\n",
    "        surv_full = model.predict_surv_df(x_test)\n",
    "    \n",
    "    idxs = np.where(events_test==v)\n",
    "    x_test = x_test[idxs]\n",
    "    durations_test = durations_test[idxs]\n",
    "    \n",
    "    if trainer.interpolate_discrete_times:\n",
    "        surv = model.interpolate(100).predict_surv_df(x_test)\n",
    "    else:\n",
    "        if hasattr(model, 'compute_baseline_hazards'):\n",
    "            _ = model.compute_baseline_hazards()\n",
    "        surv = model.predict_surv_df(x_test)\n",
    "    \n",
    "    return surv_full, surv, durations_test, et_train, et_test"
   ]
  },
  {
   "cell_type": "markdown",
   "id": "8772494d",
   "metadata": {},
   "source": [
    "### 2. Transformer-based models\n",
    "- `SurvTrace` : https://arxiv.org/pdf/2110.00855.pdf\n",
    "- `TRANS-TFI`: Transformers for Time Feature Injection in Survival Analysis (newly proposed)"
   ]
  },
  {
   "cell_type": "code",
   "execution_count": 7,
   "id": "d0a04156",
   "metadata": {},
   "outputs": [],
   "source": [
    "def infer_surv_of_transformers(model_name, dataset, group='uncensored', experiment_root='../scripts'):\n",
    "    setup_config_for_transformers(model_name, dataset)\n",
    "    \n",
    "    # load data\n",
    "    df, df_train, df_y_train, df_test, df_y_test, df_val, df_y_val = load_data_trs(STConfig)\n",
    "    \n",
    "    # get model\n",
    "    model = SurvTraceSingle(STConfig)\n",
    "    \n",
    "    # initialize a trainer\n",
    "    trainer = Trainer(model, dataset)\n",
    "    trainer.ckpt = Path(experiment_root, trainer.ckpt)\n",
    "    trainer.load_model_weights()\n",
    "    model = trainer.model\n",
    "        \n",
    "    if group == 'uncensored':\n",
    "        v = 1\n",
    "    elif group == 'censored':\n",
    "        v = 0\n",
    "        \n",
    "    df_train_all = df.loc[df_train.index]\n",
    "    get_target_fn = lambda df: (df['duration'].values, df['event'].values)\n",
    "    durations_train, events_train = get_target_fn(df_train_all)\n",
    "    et_train = np.array([(events_train[i], durations_train[i]) for i in range(len(events_train))],\n",
    "                    dtype = [('e', bool), ('t', float)])\n",
    "    durations_test, events_test = get_target_fn(df_y_test)\n",
    "    et_test = np.array([(events_test[i], durations_test[i]) for i in range(len(events_test))],\n",
    "                dtype = [('e', bool), ('t', float)])\n",
    "\n",
    "    surv_full = model.interpolate(100).predict_surv_df(df_test)\n",
    "            \n",
    "    df_test = df_test.loc[events_test==v]\n",
    "    durations_test = durations_test[events_test==v]\n",
    "    \n",
    "    surv = model.interpolate(100).predict_surv_df(df_test)\n",
    "    \n",
    "    return surv_full, surv, durations_test, et_train, et_test"
   ]
  },
  {
   "cell_type": "markdown",
   "id": "c86575bd",
   "metadata": {},
   "source": [
    "### 3. Classical Cox-spirit models\n",
    "- Use scikit-survival implementations for:\n",
    "    - `CPH` : Cox Proportional Hazards model ([link](https://scikit-survival.readthedocs.io/en/stable/api/generated/sksurv.linear_model.CoxPHSurvivalAnalysis.html))\n",
    "    - `RSF` : Random Survival Forest ([link](https://scikit-survival.readthedocs.io/en/stable/api/generated/sksurv.ensemble.RandomSurvivalForest.html))"
   ]
  },
  {
   "cell_type": "code",
   "execution_count": 8,
   "id": "5d416121",
   "metadata": {},
   "outputs": [],
   "source": [
    "def format_labels(y):\n",
    "    durations, events = y.T\n",
    "    return np.array([(events[i], durations[i]) for i in range(len(y))],\n",
    "                    dtype=[('e', bool), ('t', float)])\n",
    "\n",
    "def infer_surv_of_cox_spirit_models(model_name, dataset, group='uncensored', experiment_root='../scripts', random_state=1234):\n",
    "    seed_everything(random_state)\n",
    "    x_train, x_val, x_test, y_train, y_val, y_test, df_train_raw, df_val_raw, df_test_raw, df_full, cols_standardize, cols_categorical = load_data_base(dataset, random_state=random_state)\n",
    "\n",
    "    et_train = format_labels(y_train)\n",
    "    et_test = format_labels(y_test)\n",
    "        \n",
    "    # Load model instance\n",
    "    model_save_dir = './model_dir'\n",
    "    model_save_path = Path(experiment_root) / model_save_dir / f\"{model_name}_{dataset}.pkl\"\n",
    "    with open(model_save_path, 'rb') as f:\n",
    "        model = pickle.load(f)\n",
    "        \n",
    "    if group == 'uncensored':\n",
    "        v = 1\n",
    "    elif group == 'censored':\n",
    "        v = 0\n",
    "        \n",
    "    # Evaluation (full)\n",
    "    surv_func = model.predict_survival_function(x_test)\n",
    "    surv = np.row_stack([fn(fn.x) for fn in surv_func])\n",
    "    surv_df_full = pd.DataFrame(surv.T, index=surv_func[0].x)\n",
    "    risk_scores = model.predict(x_test)\n",
    "            \n",
    "    events, durations = pd.DataFrame.from_records(et_test).T.values\n",
    "    idxs = np.where(events==v)\n",
    "    x_test = x_test[idxs]\n",
    "    durations_test = durations[idxs]\n",
    "\n",
    "    # Evaluation\n",
    "    surv_func = model.predict_survival_function(x_test)\n",
    "    surv = np.row_stack([fn(fn.x) for fn in surv_func])\n",
    "    surv_df = pd.DataFrame(surv.T, index=surv_func[0].x)\n",
    "\n",
    "    return surv_df_full, surv_df, risk_scores, durations_test, et_train, et_test"
   ]
  },
  {
   "cell_type": "markdown",
   "id": "a9fff648",
   "metadata": {},
   "source": [
    "### Plotting helper"
   ]
  },
  {
   "cell_type": "code",
   "execution_count": 9,
   "id": "f90c4893",
   "metadata": {},
   "outputs": [],
   "source": [
    "def sort_legend(reference_list, order='descend'):\n",
    "\n",
    "    handles, labels = plt.gca().get_legend_handles_labels()\n",
    "\n",
    "    # Sort the labels based on the reference_list values\n",
    "    sort_idx = sorted(range(len(reference_list)), key=lambda i: reference_list[i], reverse=(order=='descend'))\n",
    "    sorted_labels = [labels[i] for i in sort_idx]\n",
    "\n",
    "    # Use the sorted labels to create the legend\n",
    "    plt.legend([handles[i] for i in sort_idx], sorted_labels)\n",
    "    plt.grid(True)"
   ]
  },
  {
   "cell_type": "markdown",
   "id": "33a6ec4c",
   "metadata": {},
   "source": [
    "### Curv similarity measure\n",
    "- Fréchet distance : a metric to compare two curves or paths"
   ]
  },
  {
   "cell_type": "code",
   "execution_count": 10,
   "id": "e7ad3554",
   "metadata": {},
   "outputs": [],
   "source": [
    "def euclidean_distance(point1, point2):\n",
    "    \"\"\"\n",
    "    Compute the Euclidean distance between two points.\n",
    "\n",
    "    Parameters:\n",
    "        point1 (tuple): The first point.\n",
    "        point2 (tuple): The second point.\n",
    "\n",
    "    Returns:\n",
    "        float: The Euclidean distance between the two points.\n",
    "    \"\"\"\n",
    "    return np.sqrt(np.sum((np.array(point1) - np.array(point2)) ** 2))\n",
    "\n",
    "def compute_distance_matrix(curve1, curve2):\n",
    "    \"\"\"\n",
    "    Compute the distance matrix between two curves.\n",
    "\n",
    "    Parameters:\n",
    "        curve1 (list): The first curve, represented as a list of points.\n",
    "        curve2 (list): The second curve, represented as a list of points.\n",
    "\n",
    "    Returns:\n",
    "        np.ndarray: The distance matrix between the two curves.\n",
    "    \"\"\"\n",
    "    distance_matrix = np.zeros((len(curve1), len(curve2)))\n",
    "    for i in range(len(curve1)):\n",
    "        for j in range(len(curve2)):\n",
    "            distance_matrix[i][j] = euclidean_distance(curve1[i], curve2[j])\n",
    "    return distance_matrix\n",
    "\n",
    "def compute_frechet_distance(curve1, curve2):\n",
    "    \"\"\"\n",
    "    Compute the Fréchet distance between two curves.\n",
    "\n",
    "    Parameters:\n",
    "        curve1 (list): The first curve, represented as a list of points.\n",
    "        curve2 (list): The second curve, represented as a list of points.\n",
    "\n",
    "    Returns:\n",
    "        float: The Fréchet distance between the two curves.\n",
    "    \"\"\"\n",
    "    distance_matrix = compute_distance_matrix(curve1, curve2)\n",
    "    min_distance_matrix = np.zeros((len(curve1), len(curve2)))\n",
    "\n",
    "    min_distance_matrix[0][0] = distance_matrix[0][0]\n",
    "\n",
    "    for i in range(1, len(curve1)):\n",
    "        min_distance_matrix[i][0] = max(min_distance_matrix[i-1][0], distance_matrix[i][0])\n",
    "\n",
    "    for j in range(1, len(curve2)):\n",
    "        min_distance_matrix[0][j] = max(min_distance_matrix[0][j-1], distance_matrix[0][j])\n",
    "\n",
    "    for i in range(1, len(curve1)):\n",
    "        for j in range(1, len(curve2)):\n",
    "            min_distance_matrix[i][j] = max(min(min_distance_matrix[i-1][j], min_distance_matrix[i][j-1], min_distance_matrix[i-1][j-1]), distance_matrix[i][j])\n",
    "\n",
    "    return min_distance_matrix[-1][-1]\n"
   ]
  },
  {
   "cell_type": "markdown",
   "id": "86d3e9cc",
   "metadata": {},
   "source": [
    "## Variables for experiments"
   ]
  },
  {
   "cell_type": "code",
   "execution_count": 11,
   "id": "93135d43",
   "metadata": {},
   "outputs": [],
   "source": [
    "BASELINES = ['DeepHitSingle', 'CoxPH', 'DRSA']\n",
    "TRANSFORMERS = ['SurvTrace', 'TRANS-TFI']\n",
    "COX_SPIRIT_MODELS = ['CPH', 'RSF']\n",
    "\n",
    "dataset = 'dialysis' # (metabric | gbsg | dialysis)\n",
    "model_list = COX_SPIRIT_MODELS + BASELINES + TRANSFORMERS\n",
    "time_range = 'full' # used for baseline models\n",
    "group = 'censored' # uncensored = event happend, censored = event not happened\n",
    "experiment_root='../scripts'"
   ]
  },
  {
   "cell_type": "markdown",
   "id": "d749dd72",
   "metadata": {},
   "source": [
    "## Fine-grained survival functions\n",
    "- personalized survival functions (or individual survival functions) are compared"
   ]
  },
  {
   "cell_type": "code",
   "execution_count": 12,
   "id": "2bc2c313",
   "metadata": {
    "scrolled": false
   },
   "outputs": [
    {
     "data": {
      "image/png": "[encoded data removed]",
      "text/plain": [
       "<Figure size 640x480 with 1 Axes>"
      ]
     },
     "metadata": {},
     "output_type": "display_data"
    }
   ],
   "source": [
    "sample_index = random.randint(0, 100)\n",
    "\n",
    "# dataset = metabric, group = uncensored (event happened)\n",
    "# sample_index = 51\n",
    "# sample_index = 86\n",
    "# sample_index = 87\n",
    "# sample_index = 89\n",
    "# sample_index = 10\n",
    "# sample_index = 44\n",
    "\n",
    "# dataset = metabric, group = censored (event not happened)\n",
    "# sample_index = 47\n",
    "# sample_index = 76\n",
    "# sample_index = 55\n",
    "# sample_index = 57\n",
    "\n",
    "\n",
    "# dataset = gbsg, group = uncensored (event happened)\n",
    "# sample_index = 47\n",
    "# sample_index = 69\n",
    "# sample_index = 56\n",
    "# sample_index = 58\n",
    "\n",
    "# dataset = gbsg, group = censored (event not happened)\n",
    "# sample_index = 73\n",
    "# sample_index = 75\n",
    "# sample_index = 79\n",
    "# sample_index = 83\n",
    "# sample_index = 84\n",
    "# sample_index = 3\n",
    "\n",
    "# for later usage\n",
    "surv_results = {}\n",
    "surv_full_results = {} \n",
    "cox_risk_scores = {}\n",
    "et_train_test = {}\n",
    "\n",
    "for i, model_name in enumerate(model_list):\n",
    "    if model_name == 'CoxPH':\n",
    "        model_name = 'DeepSurv'\n",
    "    if model_name in BASELINES:\n",
    "        surv_full, surv, durations_test, et_train, et_test = infer_surv_of_baselines(model_name, dataset, time_range, group=group, experiment_root=experiment_root)\n",
    "    if model_name in TRANSFORMERS:\n",
    "        surv_full, surv, durations_test, et_train, et_test = infer_surv_of_transformers(model_name, dataset, group=group, experiment_root=experiment_root)\n",
    "    if model_name in COX_SPIRIT_MODELS:\n",
    "        surv_full, surv, risk_scores, durations_test, et_train, et_test = infer_surv_of_cox_spirit_models(model_name, dataset, group, experiment_root=experiment_root)\n",
    "        cox_risk_scores[model_name] = risk_scores\n",
    "\n",
    "    plt.step(surv.index, surv.iloc[:, sample_index], where=\"post\", color=f\"C{i+1}\", label=model_name)\n",
    "    \n",
    "    surv_results[model_name] = surv\n",
    "    surv_full_results[model_name] = surv_full\n",
    "    et_train_test[model_name] = (et_train, et_test)\n",
    "    \n",
    "plt.vlines(durations_test[sample_index], 0, 1, color='k', linestyles='--', linewidth=2, label='true event time' if group == 'uncensored' else 'end of observation')\n",
    "plt.xticks([durations_test[sample_index]], labels=[f't={durations_test[sample_index]}'])\n",
    "plt.suptitle(f\"survival functions on {dataset}\")\n",
    "plt.title(f\"sample_index = {sample_index} (group={group})\")\n",
    "plt.ylabel('S(t | x)')\n",
    "plt.xlabel('Time')\n",
    "# plt.ylim(0.8, 1.0)\n",
    "# plt.xlim(0, 40)\n",
    "plt.legend()\n",
    "plt.grid(True)"
   ]
  },
  {
   "cell_type": "code",
   "execution_count": 13,
   "id": "7b04460e",
   "metadata": {},
   "outputs": [
    {
     "name": "stdout",
     "output_type": "stream",
     "text": [
      "va_times: [ 42.68333435  85.8666687  145.33333588], \n",
      " horizons: [0.25, 0.5, 0.75]\n"
     ]
    }
   ],
   "source": [
    "if dataset == 'dialysis':\n",
    "    va_times = [365 * 1, 365 * 3, 365 * 5, 365 * 7] # evaluate at 1yr, 3yr, 5yr, 7yr\n",
    "    horizons = [ f\"{i}yr\" for i in [1,3,5,7] ]\n",
    "else:\n",
    "    va_times = STConfig['duration_index'][1:-1] # the discrete intervals are cut at 5%, 10%, 15%, ..., 95%\n",
    "    horizons = STConfig['horizons']\n",
    "    \n",
    "print(f\"va_times: {va_times}, \\n horizons: {horizons}\")"
   ]
  },
  {
   "cell_type": "markdown",
   "id": "50b558e9",
   "metadata": {},
   "source": [
    "## Coarse-grained survival curves for each time horizon\n",
    "- verifying our model's survival curve is clser to real survival curves\n",
    "- iterate for each time horizon (1yr, 3yr, 5yr, 7yr)\n",
    "- parenthesis meaning : Fréchet distance between real ones\n",
    "- only for `dataset`=='dialysis'"
   ]
  },
  {
   "cell_type": "code",
   "execution_count": 14,
   "id": "14bd3122",
   "metadata": {
    "scrolled": false
   },
   "outputs": [],
   "source": [
    "if dataset == 'dialysis':\n",
    "    \n",
    "    surv_masks = {}\n",
    "\n",
    "    for i, tau in enumerate(va_times):\n",
    "        auc_list_for_legend = []\n",
    "        for j, model_name in enumerate(model_list):\n",
    "            if model_name == 'CoxPH':\n",
    "                model_name = 'DeepSurv'\n",
    "\n",
    "            surv = surv_full_results[model_name]\n",
    "            et_train, et_test = et_train_test[model_name]\n",
    "            surv_mask = (et_test['t'] < tau)\n",
    "            if tau not in surv_masks:\n",
    "                surv_masks[tau] = surv_mask\n",
    "    \n",
    "    et_train, et_test = et_train_test[model_name]\n",
    "    surv_mask = (et_test['t'] < tau)\n",
    "    for i, (yr, surv_mask) in enumerate(surv_masks.items()):\n",
    "        time, real_survival_prob = kaplan_meier_estimator(et_test[\"e\"][surv_mask], et_test[\"t\"][surv_mask])\n",
    "        plt.step(time, real_survival_prob, where=\"post\", label='Real', linestyle='--', color='k', linewidth=2)\n",
    "        \n",
    "        dist_list_for_legend = [0.0]\n",
    "\n",
    "        for j, model_name in enumerate(model_list):\n",
    "            if model_name == 'CoxPH':\n",
    "                model_name = 'DeepSurv'\n",
    "\n",
    "            survival_num = []\n",
    "            for k, tau in enumerate(time):\n",
    "                surv = surv_full_results[model_name]\n",
    "                surv = surv.loc[:, surv_mask]\n",
    "                et_train, et_test = et_train_test[model_name]\n",
    "\n",
    "                # select idx at times\n",
    "                idx = idx_at_times(surv.index, [tau], 'post')\n",
    "                y_scores = surv.iloc[idx].T.values\n",
    "                y_pred = (y_scores > 0.5).astype(int) # 1 : survive, 0 : non-survive\n",
    "\n",
    "                survival_prob = np.sum(y_pred) / len(y_pred)\n",
    "                survival_num.append(survival_prob)\n",
    "                \n",
    "            curv1 = list(zip(time, survival_num))\n",
    "            curv2 = list(zip(time, real_survival_prob))\n",
    "            \n",
    "            dist = compute_frechet_distance(curv1, curv2)\n",
    "            plt.step(time, survival_num, where='post', label=f'{model_name} ({dist:.4f})', color=f'C{j}')\n",
    "            dist_list_for_legend.append(dist)\n",
    "\n",
    "        plt.title(f'Survival curves (time_horizon={horizons[i]})')\n",
    "        sort_legend(reference_list=dist_list_for_legend, order='ascend')\n",
    "        plt.show()"
   ]
  },
  {
   "attachments": {},
   "cell_type": "markdown",
   "id": "a28a0420",
   "metadata": {},
   "source": [
    "## Time-dependent analysis\n",
    "- We predict the occurrence of an event in a period up to time `t` dynamically\n",
    "- The model's predictability  is evaluate until varying time point `t`.\n",
    "\n",
    "* Why do this?\n",
    "    > At enrollment a subject is usually healthy, but may be diseased at some later time point. Consequently, sensitivity and specificity become time-dependent measures."
   ]
  },
  {
   "cell_type": "markdown",
   "id": "5bd5b638",
   "metadata": {},
   "source": [
    "## ROC curves for each time horizon\n",
    "- ROC curves for pre-defined time horizons (1,3,5,7yr) \n",
    "    - time horizons : observation duration\n",
    "- only for `dataset`=='dialysis'"
   ]
  },
  {
   "cell_type": "code",
   "execution_count": 15,
   "id": "1920eb63",
   "metadata": {
    "scrolled": false
   },
   "outputs": [],
   "source": [
    "if dataset == 'dialysis':\n",
    "\n",
    "    for i, tau in enumerate(va_times):\n",
    "        auc_list_for_legend = []\n",
    "        for j, model_name in enumerate(model_list):\n",
    "            if model_name == 'CoxPH':\n",
    "                model_name = 'DeepSurv'\n",
    "\n",
    "            surv = surv_full_results[model_name]\n",
    "            surv_mask = surv_masks[tau]\n",
    "\n",
    "            # select idx at times\n",
    "            idx = idx_at_times(surv.index, [tau], 'post')\n",
    "            # select data based on tau\n",
    "            surv = surv.loc[:, surv_mask]\n",
    "            y_scores = surv.iloc[idx].T.values\n",
    "            y_true = 1-et_test[surv.columns]['e']\n",
    "\n",
    "            # calculate fpr, tpr, thresholds\n",
    "            fpr, tpr, thresholds = roc_curve(y_true, y_scores)\n",
    "\n",
    "            # calculate AUC\n",
    "            roc_auc = auc(fpr, tpr)\n",
    "            auc_list_for_legend.append(roc_auc)\n",
    "\n",
    "            # plot ROC curve\n",
    "            plt.plot(fpr, tpr, color=f'C{j}', label=f'{model_name} (AUC = {roc_auc:.4f})')\n",
    "            plt.plot([0, 1], [0, 1], color='navy', linestyle='--')\n",
    "            plt.xlim([0.0, 1.0])\n",
    "            plt.ylim([0.0, 1.05])\n",
    "            plt.xlabel('False Positive Rate')\n",
    "            plt.ylabel('True Positive Rate')\n",
    "            plt.title(f'ROC (time horizon={horizons[i]})')\n",
    "        sort_legend(reference_list=auc_list_for_legend)\n",
    "        plt.show()"
   ]
  },
  {
   "cell_type": "code",
   "execution_count": null,
   "id": "5e19298c",
   "metadata": {},
   "outputs": [],
   "source": []
  }
 ],
 "metadata": {
  "kernelspec": {
   "display_name": "Python 3 (ipykernel)",
   "language": "python",
   "name": "python3"
  },
  "language_info": {
   "codemirror_mode": {
    "name": "ipython",
    "version": 3
   },
   "file_extension": ".py",
   "mimetype": "text/x-python",
   "name": "python",
   "nbconvert_exporter": "python",
   "pygments_lexer": "ipython3",
   "version": "3.9.16"
  }
 },
 "nbformat": 4,
 "nbformat_minor": 5
}
